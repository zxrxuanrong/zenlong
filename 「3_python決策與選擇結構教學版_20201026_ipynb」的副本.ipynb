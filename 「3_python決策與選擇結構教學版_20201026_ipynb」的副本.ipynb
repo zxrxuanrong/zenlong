{
  "nbformat": 4,
  "nbformat_minor": 0,
  "metadata": {
    "colab": {
      "name": "「3_python決策與選擇結構教學版_20201026.ipynb」的副本",
      "provenance": [],
      "collapsed_sections": [],
      "include_colab_link": true
    },
    "kernelspec": {
      "name": "python3",
      "display_name": "Python 3"
    }
  },
  "cells": [
    {
      "cell_type": "markdown",
      "metadata": {
        "id": "view-in-github",
        "colab_type": "text"
      },
      "source": [
        "<a href=\"https://colab.research.google.com/github/zxrxuanrong/zenlong/blob/master/%E3%80%8C3_python%E6%B1%BA%E7%AD%96%E8%88%87%E9%81%B8%E6%93%87%E7%B5%90%E6%A7%8B%E6%95%99%E5%AD%B8%E7%89%88_20201026_ipynb%E3%80%8D%E7%9A%84%E5%89%AF%E6%9C%AC.ipynb\" target=\"_parent\"><img src=\"https://colab.research.google.com/assets/colab-badge.svg\" alt=\"Open In Colab\"/></a>"
      ]
    },
    {
      "cell_type": "markdown",
      "metadata": {
        "id": "OaJKqW9Dch0Y"
      },
      "source": [
        "# python決策與選擇結構\n",
        "```\n",
        "[1]if\n",
        "[2]if ...elsif\n",
        "[3]if ...else\n",
        "[4]if ...elsif ...else\n",
        "[5]各種判斷條件\n",
        "   AND\n",
        "   OR\n",
        "```\n",
        "```\n",
        "問題:有何差別\n",
        "[2]if ...elsif\n",
        "[3]if ...else\n",
        "```\n",
        "```\n",
        "單向判斷式（if⋯）: 是非題｜對的才要做\n",
        "雙向判斷式（if⋯else）: 二選一｜一定要選的\n",
        "多向判斷式（if⋯elif⋯else）: 多選一｜一定要選的\n",
        "```\n",
        "```\n",
        "程式流程控制　之 選擇(判斷) SELECTION /DECISION\n",
        "Python 程式碼縮排\n",
        "Python 語言以冒號「:」及縮排來表示程式區塊\n",
        "縮排為 1 個 Tab 鍵或 4 個空白鍵\n",
        "https://www.w3schools.com/python/python_conditions.asp\n",
        "```\n",
        "## Python沒有switch\n",
        "```\n",
        "switch(變數名稱或運算式) {\n",
        "    case 符合數字或字元:\n",
        "        陳述句一;\n",
        "        break;\n",
        "    case 符合數字或字元:\n",
        "        陳述句二;\n",
        "        break;\n",
        "    default:\n",
        "        陳述三;\n",
        "        break;\n",
        "}\n",
        "```"
      ]
    },
    {
      "cell_type": "markdown",
      "metadata": {
        "id": "ATwc25Q2clcb"
      },
      "source": [
        "# [1]if\n",
        "\n",
        "底下程式執行後結果為何?\n",
        "```\n",
        "a = 33\n",
        "b = 200\n",
        "\n",
        "if b > a:\n",
        "  print(\"b is greater than a\")\n",
        "```"
      ]
    },
    {
      "cell_type": "code",
      "metadata": {
        "id": "G73vmQmQBEdd",
        "outputId": "9000df1a-15e7-4ad4-9844-29205f9438b9",
        "colab": {
          "base_uri": "https://localhost:8080/",
          "height": 34
        }
      },
      "source": [
        "a = 33\n",
        "b = 200\n",
        " \n",
        "if b > a:\n",
        "  print(\"b is greater than a\")"
      ],
      "execution_count": 1,
      "outputs": [
        {
          "output_type": "stream",
          "text": [
            "b is greater than a\n"
          ],
          "name": "stdout"
        }
      ]
    },
    {
      "cell_type": "markdown",
      "metadata": {
        "id": "bm4GtzT5cnnj"
      },
      "source": [
        "底下程式執行後結果為何?"
      ]
    },
    {
      "cell_type": "code",
      "metadata": {
        "id": "OGWqX1eGBHl7"
      },
      "source": [
        "a = 33\n",
        "b = 20\n",
        " \n",
        "if b > a:\n",
        "  print(\"b is greater than a\")"
      ],
      "execution_count": 2,
      "outputs": []
    },
    {
      "cell_type": "code",
      "metadata": {
        "id": "a4Kifh8eeFW3"
      },
      "source": [
        "if 100 == \"100\":\n",
        "    print(\"Hello\")"
      ],
      "execution_count": 5,
      "outputs": []
    },
    {
      "cell_type": "markdown",
      "metadata": {
        "id": "S7C9Vh4xcqN4"
      },
      "source": [
        "# [2]if ...elsif\n",
        "\n",
        "底下程式執行後結果為何?"
      ]
    },
    {
      "cell_type": "code",
      "metadata": {
        "id": "YizObnVmBSFc",
        "outputId": "f38520c5-c897-4488-e1bb-7da369bae348",
        "colab": {
          "base_uri": "https://localhost:8080/",
          "height": 34
        }
      },
      "source": [
        "a = 32\n",
        "b = 33\n",
        " \n",
        "if b > a:\n",
        "  print(\"b is greater than a\")\n",
        "elif a == b:\n",
        "  print(\"a and b are equal\")"
      ],
      "execution_count": 6,
      "outputs": [
        {
          "output_type": "stream",
          "text": [
            "b is greater than a\n"
          ],
          "name": "stdout"
        }
      ]
    },
    {
      "cell_type": "markdown",
      "metadata": {
        "id": "l_euwOcPctBT"
      },
      "source": [
        "底下程式執行後結果為何?"
      ]
    },
    {
      "cell_type": "code",
      "metadata": {
        "id": "zaI0HL2dBV3k",
        "outputId": "c1f046a8-4d9e-48ef-f339-a8b21ab6a58d",
        "colab": {
          "base_uri": "https://localhost:8080/",
          "height": 34
        }
      },
      "source": [
        "a = 33\n",
        "b = 33\n",
        "if b > a:\n",
        "  print(\"b is greater than a\")\n",
        "elif a == b:\n",
        "  print(\"a and b are equal\")"
      ],
      "execution_count": 7,
      "outputs": [
        {
          "output_type": "stream",
          "text": [
            "a and b are equal\n"
          ],
          "name": "stdout"
        }
      ]
    },
    {
      "cell_type": "markdown",
      "metadata": {
        "id": "YxeiPkFJcvfa"
      },
      "source": [
        "底下程式執行後結果為何?"
      ]
    },
    {
      "cell_type": "code",
      "metadata": {
        "id": "TVXvP2rjBYqU"
      },
      "source": [
        "a = 35\n",
        "b = 33\n",
        " \n",
        "if b > a:\n",
        "  print(\"b is greater than a\")\n",
        "elif a == b:\n",
        "  print(\"a and b are equal\")"
      ],
      "execution_count": null,
      "outputs": []
    },
    {
      "cell_type": "markdown",
      "metadata": {
        "id": "4v-m5ukFcyUp"
      },
      "source": [
        "# 雙向判斷式（if⋯else）: 二選一｜一定要選的\n",
        "\n",
        "底下程式執行後結果為何?"
      ]
    },
    {
      "cell_type": "code",
      "metadata": {
        "id": "N6kp_d-UBdUO",
        "outputId": "f16604fc-f2c3-4002-80d6-4f29e63dc28c",
        "colab": {
          "base_uri": "https://localhost:8080/",
          "height": 34
        }
      },
      "source": [
        "a = 200\n",
        "b = 33\n",
        " \n",
        "if b > a:\n",
        "  print(\"b is greater than a\")\n",
        "else:\n",
        "  print(\"b is not greater than a\")"
      ],
      "execution_count": 8,
      "outputs": [
        {
          "output_type": "stream",
          "text": [
            "b is not greater than a\n"
          ],
          "name": "stdout"
        }
      ]
    },
    {
      "cell_type": "markdown",
      "metadata": {
        "id": "7S9Zpdxfc098"
      },
      "source": [
        "# [4]if ...elsif ...else  多選一｜一定要選的\n",
        "\n",
        "底下程式執行後結果為何?"
      ]
    },
    {
      "cell_type": "code",
      "metadata": {
        "id": "r-t5F8aCBjB9",
        "outputId": "07f2bacd-3018-42dc-8149-152a465f1a01",
        "colab": {
          "base_uri": "https://localhost:8080/",
          "height": 34
        }
      },
      "source": [
        "a = 200\n",
        "b = 33\n",
        " \n",
        "if b > a:\n",
        "  print(\"b is greater than a\")\n",
        "elif a == b:\n",
        "  print(\"a and b are equal\")\n",
        "else:\n",
        "  print(\"a is greater than b\")"
      ],
      "execution_count": 9,
      "outputs": [
        {
          "output_type": "stream",
          "text": [
            "a is greater than b\n"
          ],
          "name": "stdout"
        }
      ]
    },
    {
      "cell_type": "markdown",
      "metadata": {
        "id": "Y1IE6lhfdCql"
      },
      "source": [
        "# [5]各種判斷條件   AND  OR\n",
        "\n",
        "底下程式執行後結果為何?"
      ]
    },
    {
      "cell_type": "code",
      "metadata": {
        "id": "jFgLM9lgBn5F",
        "outputId": "9eb6d9f7-0649-4c54-d141-a739dca56f16",
        "colab": {
          "base_uri": "https://localhost:8080/",
          "height": 51
        }
      },
      "source": [
        "# 判斷是否為閏年\n",
        " \n",
        "year= eval(input(\"請輸入年\"))\n",
        " \n",
        "if ((year%400==0) or (year%4==0 and year%100!=0)):\n",
        "  print(\"{0} 是閏年\".format(year))\n",
        "else:\n",
        "  print(\"{0} 不是閏年\".format(year))"
      ],
      "execution_count": 10,
      "outputs": [
        {
          "output_type": "stream",
          "text": [
            "請輸入年2018\n",
            "2018 不是閏年\n"
          ],
          "name": "stdout"
        }
      ]
    },
    {
      "cell_type": "markdown",
      "metadata": {
        "id": "stbXjqM5dKNZ"
      },
      "source": [
        "# 歲月匆匆程式開發\n",
        "```\n",
        "輸入:年月日\n",
        "輸出:已經過了多少日\n",
        "```"
      ]
    },
    {
      "cell_type": "markdown",
      "metadata": {
        "id": "FdJMoFlmdMwp"
      },
      "source": [
        "底下程式執行後結果為何?\n",
        "```\n",
        "year, month, day = eval(input(\"請輸入年月日\"))\n",
        "year, month, day\n",
        "\n",
        "#請輸入年月日2019,5,22\n",
        "```"
      ]
    },
    {
      "cell_type": "code",
      "metadata": {
        "id": "IStQQaNsBvQV",
        "outputId": "26d57ec3-ae95-4a11-e503-4e2d907b10f2",
        "colab": {
          "base_uri": "https://localhost:8080/",
          "height": 233
        }
      },
      "source": [
        "year, month, day = eval(input(\"請輸入年月日\"))\n",
        "year, month, day\n",
        " \n",
        "# 請輸入年月日2019,5,22"
      ],
      "execution_count": 12,
      "outputs": [
        {
          "output_type": "stream",
          "text": [
            "請輸入年月日2018\n"
          ],
          "name": "stdout"
        },
        {
          "output_type": "error",
          "ename": "TypeError",
          "evalue": "ignored",
          "traceback": [
            "\u001b[0;31m---------------------------------------------------------------------------\u001b[0m",
            "\u001b[0;31mTypeError\u001b[0m                                 Traceback (most recent call last)",
            "\u001b[0;32m<ipython-input-12-5ac71bda0aee>\u001b[0m in \u001b[0;36m<module>\u001b[0;34m()\u001b[0m\n\u001b[0;32m----> 1\u001b[0;31m \u001b[0myear\u001b[0m\u001b[0;34m,\u001b[0m \u001b[0mmonth\u001b[0m\u001b[0;34m,\u001b[0m \u001b[0mday\u001b[0m \u001b[0;34m=\u001b[0m \u001b[0meval\u001b[0m\u001b[0;34m(\u001b[0m\u001b[0minput\u001b[0m\u001b[0;34m(\u001b[0m\u001b[0;34m\"請輸入年月日\"\u001b[0m\u001b[0;34m)\u001b[0m\u001b[0;34m)\u001b[0m\u001b[0;34m\u001b[0m\u001b[0;34m\u001b[0m\u001b[0m\n\u001b[0m\u001b[1;32m      2\u001b[0m \u001b[0myear\u001b[0m\u001b[0;34m,\u001b[0m \u001b[0mmonth\u001b[0m\u001b[0;34m,\u001b[0m \u001b[0mday\u001b[0m\u001b[0;34m\u001b[0m\u001b[0;34m\u001b[0m\u001b[0m\n\u001b[1;32m      3\u001b[0m \u001b[0;34m\u001b[0m\u001b[0m\n\u001b[1;32m      4\u001b[0m \u001b[0;31m# 請輸入年月日2019,5,22\u001b[0m\u001b[0;34m\u001b[0m\u001b[0;34m\u001b[0m\u001b[0;34m\u001b[0m\u001b[0m\n",
            "\u001b[0;31mTypeError\u001b[0m: 'int' object is not iterable"
          ]
        }
      ]
    },
    {
      "cell_type": "markdown",
      "metadata": {
        "id": "c1MmiNTIdW_-"
      },
      "source": [
        "底下程式執行後結果為何?"
      ]
    },
    {
      "cell_type": "code",
      "metadata": {
        "id": "eH9MGUooB1se",
        "outputId": "1458aa2d-b808-490a-836d-183a361a7f57",
        "colab": {
          "base_uri": "https://localhost:8080/",
          "height": 51
        }
      },
      "source": [
        "year, month, day = eval(input(\"請輸入年月日::\"))\n",
        "day_month = [31, 28, 31, 30, 31, 30, 31, 31, 30, 31, 30, 31]\n",
        " \n",
        "if year%400==0 or (year%4==0 and year%100!=0):    \n",
        "  day_month[1] = 29\n",
        "if month==1:\n",
        "    print(day)\n",
        "else:\n",
        "    print(sum(day_month[:month-1])+day)"
      ],
      "execution_count": 13,
      "outputs": [
        {
          "output_type": "stream",
          "text": [
            "請輸入年月日::2018,3,20\n",
            "79\n"
          ],
          "name": "stdout"
        }
      ]
    },
    {
      "cell_type": "markdown",
      "metadata": {
        "id": "wfvp-LmZrXLz"
      },
      "source": [
        "\n",
        "# 多向判斷式（if⋯elif⋯else）:收銀台程式開發\n",
        "```\n",
        "百貨公司週年慶活動血拼大打折，\n",
        "吸引很多顧客上門，\n",
        "公司決定再加碼回饋客戶，\n",
        "\n",
        "只要客戶消費\n",
        "金額在 100000 元以上就打八折，\n",
        "金額在 50000 元以上就打八五折，\n",
        "金額在 30000 元以上就打九折，\n",
        "金額在 10000 元以上就打九五折，\n",
        "金額在 10000 元以下就不打折\n",
        "\n",
        "請幫該公司設計這個收銀台的程式，\n",
        "輸入顧客購買金額後，計算顧客應付的金錢。\n",
        "```"
      ]
    },
    {
      "cell_type": "code",
      "metadata": {
        "id": "L3aMOxsQB8g-",
        "outputId": "45f4d7d5-d25a-498e-f778-7cb6600b2861",
        "colab": {
          "base_uri": "https://localhost:8080/",
          "height": 51
        }
      },
      "source": [
        "money = int(input(\"請輸入購物金額：\"))\n",
        " \n",
        "if(money >= 10000):\n",
        "    if(money >= 100000):\n",
        "        print(money * 0.8, end=\" 元\\n\")  #八折\n",
        "    elif(money >= 50000):\n",
        "        print(money * 0.85, end=\" 元\\n\")  #八五折\n",
        "    elif(money >= 30000):\n",
        "        print(money * 0.9, end=\" 元\\n\")  #九折\n",
        "    else:\n",
        "        print(money * 0.95, end=\" 元\\n\")  #九五折\n",
        "else:\n",
        "    print(money, end=\" 元\\n\")  #未打折"
      ],
      "execution_count": 14,
      "outputs": [
        {
          "output_type": "stream",
          "text": [
            "請輸入購物金額：100000\n",
            "80000.0 元\n"
          ],
          "name": "stdout"
        }
      ]
    }
  ]
}